{
 "cells": [
  {
   "cell_type": "code",
   "execution_count": 34,
   "metadata": {},
   "outputs": [
    {
     "name": "stdout",
     "output_type": "stream",
     "text": [
      "9114\n",
      "2\n",
      "3\n",
      "7\n",
      "7\n",
      "31\n",
      "[2, 3, 7, 7, 31]\n"
     ]
    }
   ],
   "source": [
    "x = int(input())\n",
    "i = 2\n",
    "i_list = []\n",
    "\n",
    "while i <= x:\n",
    "    if x % i == 0:\n",
    "        print(i)\n",
    "        i_list.append(i)\n",
    "        x /= i\n",
    "        \n",
    "    else:\n",
    "        i = i + 1\n",
    "        \n",
    "print(i_list)"
   ]
  },
  {
   "cell_type": "code",
   "execution_count": null,
   "metadata": {},
   "outputs": [],
   "source": []
  },
  {
   "cell_type": "code",
   "execution_count": null,
   "metadata": {},
   "outputs": [],
   "source": []
  }
 ],
 "metadata": {
  "kernelspec": {
   "display_name": "Python 3",
   "language": "python",
   "name": "python3"
  },
  "language_info": {
   "codemirror_mode": {
    "name": "ipython",
    "version": 3
   },
   "file_extension": ".py",
   "mimetype": "text/x-python",
   "name": "python",
   "nbconvert_exporter": "python",
   "pygments_lexer": "ipython3",
   "version": "3.6.8"
  }
 },
 "nbformat": 4,
 "nbformat_minor": 2
}
