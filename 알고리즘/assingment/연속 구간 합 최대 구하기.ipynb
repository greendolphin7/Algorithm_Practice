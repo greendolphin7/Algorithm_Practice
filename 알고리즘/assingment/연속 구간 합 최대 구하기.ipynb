{
 "cells": [
  {
   "cell_type": "code",
   "execution_count": 39,
   "metadata": {},
   "outputs": [],
   "source": [
    "test_data1 = [1, 2, 5, 4, 2, 6, 7, 8, 9, 10]\n",
    "test_data2 = [1, -2, 5, -4, 2, -6, 7, -8, 9, 10]\n",
    "test_data3 = [-1, -2, -3, -4, -5]"
   ]
  },
  {
   "cell_type": "code",
   "execution_count": 35,
   "metadata": {},
   "outputs": [],
   "source": [
    "def partial_sum(arr):\n",
    "    arr = [0] + arr\n",
    "    partial_sum = [0] * len(arr)\n",
    "    \n",
    "    for i in range(1, len(arr)):\n",
    "        partial_sum[i] = partial_sum[i-1] + arr[i]\n",
    "        \n",
    "    partial_sum = partial_sum[1:]\n",
    "    print(\"partial_sum\", partial_sum)\n",
    "    \n",
    "    max_partial_sum = partial_sum[0]\n",
    "    \n",
    "    for b in range(0, len(arr)-1):\n",
    "        for a in range(0, b):\n",
    "            print(a, b, partial_sum[b] - partial_sum[a-1])\n",
    "            max_partial_sum = max(max_partial_sum, partial_sum[b] - partial_sum[a-1])\n",
    "            \n",
    "    print(\"max partial sum\", max_partial_sum)"
   ]
  },
  {
   "cell_type": "code",
   "execution_count": 33,
   "metadata": {},
   "outputs": [],
   "source": [
    "def dynamic_partial_sum(arr):\n",
    "    cache = [0] * len(arr)\n",
    "    cache[0] = arr[0]\n",
    "    for i in range(0, len(arr)):\n",
    "        cache[i] = max(0, cache[i-1]) + arr[i]\n",
    "        print(i, arr[i], cache)\n",
    "    print(cache)\n",
    "    return max(cache)"
   ]
  },
  {
   "cell_type": "code",
   "execution_count": 34,
   "metadata": {},
   "outputs": [
    {
     "name": "stdout",
     "output_type": "stream",
     "text": [
      "0 1 [1, 0, 0, 0, 0, 0, 0, 0, 0, 0]\n",
      "1 -2 [1, -1, 0, 0, 0, 0, 0, 0, 0, 0]\n",
      "2 5 [1, -1, 5, 0, 0, 0, 0, 0, 0, 0]\n",
      "3 -4 [1, -1, 5, 1, 0, 0, 0, 0, 0, 0]\n",
      "4 2 [1, -1, 5, 1, 3, 0, 0, 0, 0, 0]\n",
      "5 -6 [1, -1, 5, 1, 3, -3, 0, 0, 0, 0]\n",
      "6 7 [1, -1, 5, 1, 3, -3, 7, 0, 0, 0]\n",
      "7 -8 [1, -1, 5, 1, 3, -3, 7, -1, 0, 0]\n",
      "8 9 [1, -1, 5, 1, 3, -3, 7, -1, 9, 0]\n",
      "9 10 [1, -1, 5, 1, 3, -3, 7, -1, 9, 19]\n",
      "[1, -1, 5, 1, 3, -3, 7, -1, 9, 19]\n"
     ]
    },
    {
     "data": {
      "text/plain": [
       "19"
      ]
     },
     "execution_count": 34,
     "metadata": {},
     "output_type": "execute_result"
    }
   ],
   "source": [
    "dynamic_partial_sum(test_data2)"
   ]
  },
  {
   "cell_type": "code",
   "execution_count": 40,
   "metadata": {},
   "outputs": [
    {
     "name": "stdout",
     "output_type": "stream",
     "text": [
      "partial_sum [-1, -3, -6, -10, -15]\n",
      "0 1 12\n",
      "0 2 9\n",
      "1 2 -5\n",
      "0 3 5\n",
      "1 3 -9\n",
      "2 3 -7\n",
      "0 4 0\n",
      "1 4 -14\n",
      "2 4 -12\n",
      "3 4 -9\n",
      "max partial sum 12\n"
     ]
    }
   ],
   "source": [
    "partial_sum(test_data3)"
   ]
  },
  {
   "cell_type": "code",
   "execution_count": null,
   "metadata": {},
   "outputs": [],
   "source": []
  }
 ],
 "metadata": {
  "kernelspec": {
   "display_name": "Python 3",
   "language": "python",
   "name": "python3"
  },
  "language_info": {
   "codemirror_mode": {
    "name": "ipython",
    "version": 3
   },
   "file_extension": ".py",
   "mimetype": "text/x-python",
   "name": "python",
   "nbconvert_exporter": "python",
   "pygments_lexer": "ipython3",
   "version": "3.6.8"
  }
 },
 "nbformat": 4,
 "nbformat_minor": 2
}
