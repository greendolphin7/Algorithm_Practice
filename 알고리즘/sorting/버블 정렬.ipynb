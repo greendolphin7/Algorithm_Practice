{
 "cells": [
  {
   "cell_type": "code",
   "execution_count": 9,
   "metadata": {},
   "outputs": [],
   "source": [
    "test_list = [14, 2, 8, 21, 0, 1, 4]\n",
    "\n",
    "def bubble_sort(sort_list):\n",
    "    for n in range(len(sort_list) - 1):\n",
    "        for i in range(len(sort_list)-1):\n",
    "            if sort_list[i] > sort_list[i+1]:\n",
    "                temp = sort_list[i]\n",
    "                sort_list[i] = sort_list[i+1]\n",
    "                sort_list[i+1] = temp\n",
    "\n",
    "    return sort_list"
   ]
  },
  {
   "cell_type": "code",
   "execution_count": 10,
   "metadata": {},
   "outputs": [
    {
     "name": "stdout",
     "output_type": "stream",
     "text": [
      "[0, 1, 2, 4, 8, 14, 21]\n"
     ]
    }
   ],
   "source": [
    "a = bubble_sort(test_list)\n",
    "print(a)"
   ]
  },
  {
   "cell_type": "code",
   "execution_count": null,
   "metadata": {},
   "outputs": [],
   "source": []
  }
 ],
 "metadata": {
  "kernelspec": {
   "display_name": "Python 3",
   "language": "python",
   "name": "python3"
  },
  "language_info": {
   "codemirror_mode": {
    "name": "ipython",
    "version": 3
   },
   "file_extension": ".py",
   "mimetype": "text/x-python",
   "name": "python",
   "nbconvert_exporter": "python",
   "pygments_lexer": "ipython3",
   "version": "3.6.8"
  }
 },
 "nbformat": 4,
 "nbformat_minor": 2
}
