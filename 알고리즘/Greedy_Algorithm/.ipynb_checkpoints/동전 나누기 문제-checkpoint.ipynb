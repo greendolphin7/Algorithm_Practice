{
 "cells": [
  {
   "cell_type": "code",
   "execution_count": 1,
   "metadata": {},
   "outputs": [],
   "source": [
    "# 동전 리스트 - 다음 동전들 리스트를 활용하여 가장 작은 갯수의 동전으로 지불하는 방법과 갯수를 반환하는 함수를 만들어보자\n",
    "coin_list = [10, 100, 50, 500]"
   ]
  },
  {
   "cell_type": "code",
   "execution_count": 7,
   "metadata": {},
   "outputs": [],
   "source": [
    "def min_coin_count(value, coin_list):\n",
    "    total_coin_count = 0\n",
    "    details = list()\n",
    "    coin_list.sort(reverse=True)\n",
    "    \n",
    "    for coin in coin_list:\n",
    "        coin_count = value // coin\n",
    "        total_coin_count += coin_count\n",
    "        value -= coin * coin_count\n",
    "        details.append([coin, coin_count])\n",
    "        \n",
    "    return total_coin_count, details"
   ]
  },
  {
   "cell_type": "code",
   "execution_count": 8,
   "metadata": {},
   "outputs": [
    {
     "data": {
      "text/plain": [
       "(13, [[500, 9], [100, 2], [50, 0], [10, 2]])"
      ]
     },
     "execution_count": 8,
     "metadata": {},
     "output_type": "execute_result"
    }
   ],
   "source": [
    "min_coin_count(4720, coin_list)"
   ]
  },
  {
   "cell_type": "code",
   "execution_count": 9,
   "metadata": {},
   "outputs": [
    {
     "data": {
      "text/plain": [
       "(24, [[500, 17], [100, 2], [50, 1], [10, 4]])"
      ]
     },
     "execution_count": 9,
     "metadata": {},
     "output_type": "execute_result"
    }
   ],
   "source": [
    "min_coin_count(8790, coin_list)"
   ]
  },
  {
   "cell_type": "code",
   "execution_count": null,
   "metadata": {},
   "outputs": [],
   "source": []
  }
 ],
 "metadata": {
  "kernelspec": {
   "display_name": "Python3.8",
   "language": "python",
   "name": "python3.8"
  },
  "language_info": {
   "codemirror_mode": {
    "name": "ipython",
    "version": 3
   },
   "file_extension": ".py",
   "mimetype": "text/x-python",
   "name": "python",
   "nbconvert_exporter": "python",
   "pygments_lexer": "ipython3",
   "version": "3.8.7"
  }
 },
 "nbformat": 4,
 "nbformat_minor": 2
}
