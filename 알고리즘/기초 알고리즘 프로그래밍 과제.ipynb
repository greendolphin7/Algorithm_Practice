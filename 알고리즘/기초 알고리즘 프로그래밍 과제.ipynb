{
 "cells": [
  {
   "cell_type": "markdown",
   "metadata": {},
   "source": [
    "### Q1. 피보나치 수열 3가지 방법으로 작성"
   ]
  },
  {
   "cell_type": "code",
   "execution_count": 42,
   "metadata": {},
   "outputs": [],
   "source": [
    "import time"
   ]
  },
  {
   "cell_type": "code",
   "execution_count": 83,
   "metadata": {},
   "outputs": [],
   "source": [
    "def fibo_for(n):\n",
    "    \n",
    "    fibo = 0\n",
    "    first = 0\n",
    "    second = 1\n",
    "    \n",
    "    if n < 2:\n",
    "        return 1\n",
    "    else:\n",
    "        for i in range(n-1):\n",
    "            fibo = first + second\n",
    "            first = second\n",
    "            second = fibo\n",
    "\n",
    "    return fibo"
   ]
  },
  {
   "cell_type": "code",
   "execution_count": 84,
   "metadata": {},
   "outputs": [],
   "source": [
    "def fibo_recursive(n):\n",
    "    if n <= 1:\n",
    "        return n\n",
    "    else:\n",
    "        return fibo_recursive(n-1) + fibo_recursive(n-2)"
   ]
  },
  {
   "cell_type": "code",
   "execution_count": 85,
   "metadata": {},
   "outputs": [],
   "source": [
    "def fibo_dynamic_programming(num):\n",
    "    cache = [0 for i in range(num+1)]\n",
    "    cache[0] = 0\n",
    "    cache[1] = 1\n",
    "    \n",
    "    for index in range(2, num + 1):\n",
    "        cache[index] = cache[index-1] + cache[index-2]\n",
    "    return cache[num]"
   ]
  },
  {
   "cell_type": "code",
   "execution_count": 99,
   "metadata": {},
   "outputs": [
    {
     "name": "stdout",
     "output_type": "stream",
     "text": [
      "2880067194370816120\n",
      "0.0009963512420654297\n"
     ]
    }
   ],
   "source": [
    "start_time = time.time()\n",
    "print(fibo_for(100))\n",
    "end_time = time.time()\n",
    "\n",
    "working_time = end_time - start_time\n",
    "print(working_time)"
   ]
  },
  {
   "cell_type": "code",
   "execution_count": 90,
   "metadata": {},
   "outputs": [
    {
     "name": "stdout",
     "output_type": "stream",
     "text": [
      "102334155\n",
      "126.12543845176697\n"
     ]
    }
   ],
   "source": [
    "start_time = time.time()\n",
    "print(fibo_recursive(40))\n",
    "end_time = time.time()\n",
    "\n",
    "working_time = end_time - start_time\n",
    "print(working_time)"
   ]
  },
  {
   "cell_type": "code",
   "execution_count": 100,
   "metadata": {},
   "outputs": [
    {
     "name": "stdout",
     "output_type": "stream",
     "text": [
      "354224848179261915075\n",
      "0.0008931159973144531\n"
     ]
    }
   ],
   "source": [
    "start_time = time.time()\n",
    "print(fibo_dynamic_programming(100))\n",
    "end_time = time.time()\n",
    "\n",
    "working_time = end_time - start_time\n",
    "print(working_time)"
   ]
  },
  {
   "cell_type": "markdown",
   "metadata": {},
   "source": [
    "### Q2. n개의 행렬곱. a×b인 행렬과 b×c 인 행렬 곱에 드는 계산량 = a×b×c / 계산량 최소화하는 순서 찾기"
   ]
  },
  {
   "cell_type": "code",
   "execution_count": null,
   "metadata": {},
   "outputs": [],
   "source": [
    "def sub_array():\n",
    "    "
   ]
  },
  {
   "cell_type": "markdown",
   "metadata": {},
   "source": [
    "### Q3. 정수들이 저장된 배열. 연속인 구간들 중 합이 가장 큰 구간을 찾는 프로그램을 작성"
   ]
  },
  {
   "cell_type": "code",
   "execution_count": null,
   "metadata": {},
   "outputs": [],
   "source": []
  }
 ],
 "metadata": {
  "kernelspec": {
   "display_name": "Python 3",
   "language": "python",
   "name": "python3"
  },
  "language_info": {
   "codemirror_mode": {
    "name": "ipython",
    "version": 3
   },
   "file_extension": ".py",
   "mimetype": "text/x-python",
   "name": "python",
   "nbconvert_exporter": "python",
   "pygments_lexer": "ipython3",
   "version": "3.6.8"
  }
 },
 "nbformat": 4,
 "nbformat_minor": 2
}
