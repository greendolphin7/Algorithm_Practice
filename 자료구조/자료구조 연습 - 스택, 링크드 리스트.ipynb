{
 "cells": [
  {
   "cell_type": "markdown",
   "metadata": {},
   "source": [
    "## 스택"
   ]
  },
  {
   "cell_type": "code",
   "execution_count": 47,
   "metadata": {},
   "outputs": [],
   "source": [
    "stack = list()\n",
    "\n",
    "def stack_append(data):\n",
    "    stack.append(data)\n",
    "    \n",
    "    return stack\n",
    "\n",
    "def stack_pop():\n",
    "    data = stack[len(stack) - 1]\n",
    "    \n",
    "    del stack[len(stack) - 1]\n",
    "    \n",
    "    return data"
   ]
  },
  {
   "cell_type": "code",
   "execution_count": 59,
   "metadata": {},
   "outputs": [
    {
     "data": {
      "text/plain": [
       "[1, 2, 3]"
      ]
     },
     "execution_count": 59,
     "metadata": {},
     "output_type": "execute_result"
    }
   ],
   "source": [
    "stack_append(1)\n",
    "stack_append(2)\n",
    "stack_append(3)"
   ]
  },
  {
   "cell_type": "code",
   "execution_count": 51,
   "metadata": {},
   "outputs": [
    {
     "data": {
      "text/plain": [
       "[2]"
      ]
     },
     "execution_count": 51,
     "metadata": {},
     "output_type": "execute_result"
    }
   ],
   "source": [
    "stack_append(2)"
   ]
  },
  {
   "cell_type": "code",
   "execution_count": 60,
   "metadata": {},
   "outputs": [
    {
     "data": {
      "text/plain": [
       "3"
      ]
     },
     "execution_count": 60,
     "metadata": {},
     "output_type": "execute_result"
    }
   ],
   "source": [
    "stack_pop()"
   ]
  },
  {
   "cell_type": "code",
   "execution_count": 61,
   "metadata": {},
   "outputs": [
    {
     "data": {
      "text/plain": [
       "[1, 2]"
      ]
     },
     "execution_count": 61,
     "metadata": {},
     "output_type": "execute_result"
    }
   ],
   "source": [
    "stack"
   ]
  },
  {
   "cell_type": "code",
   "execution_count": 66,
   "metadata": {},
   "outputs": [],
   "source": [
    "class Quadrangle:\n",
    "    width = 0\n",
    "    height = 0\n",
    "    color = \"black\"\n",
    "\n",
    "    def get_area(self):\n",
    "        return self.width * self.height, self.color\n",
    "    \n",
    "    def set_area(self, data1, data2, data3):\n",
    "        self.width = data1 \n",
    "        self.height = data2\n",
    "        self.color = data3"
   ]
  },
  {
   "cell_type": "code",
   "execution_count": 67,
   "metadata": {},
   "outputs": [
    {
     "name": "stdout",
     "output_type": "stream",
     "text": [
      "(50, 'red')\n",
      "(49, 'blue')\n"
     ]
    }
   ],
   "source": [
    "square1 = Quadrangle()\n",
    "square2 = Quadrangle()\n",
    "\n",
    "square1.set_area(10, 5, 'red')\n",
    "square2.set_area(7, 7, 'blue')\n",
    "\n",
    "print(square1.get_area())\n",
    "print(square2.get_area())"
   ]
  },
  {
   "cell_type": "code",
   "execution_count": 76,
   "metadata": {},
   "outputs": [],
   "source": [
    "class Quadrangle:\n",
    "    def __init__(self, width, height, color):\n",
    "        self.width = width\n",
    "        self.height = height\n",
    "        self.color = color\n",
    "\n",
    "    def __del__(self):\n",
    "        print(\"Quadrangle object is deleted\")"
   ]
  },
  {
   "cell_type": "code",
   "execution_count": 78,
   "metadata": {},
   "outputs": [
    {
     "name": "stdout",
     "output_type": "stream",
     "text": [
      "Quadrangle object is deleted\n"
     ]
    }
   ],
   "source": [
    "square = Quadrangle(5, 5, \"black\")"
   ]
  },
  {
   "cell_type": "markdown",
   "metadata": {},
   "source": [
    "## 링크드 리스트"
   ]
  },
  {
   "cell_type": "code",
   "execution_count": 90,
   "metadata": {},
   "outputs": [],
   "source": [
    "class Node:\n",
    "    def __init__(self, data, next = None):\n",
    "        self.data = data\n",
    "        self.next = next\n",
    "\n",
    "node1 = Node(1)\n",
    "node2 = Node(2)\n",
    "head = node1\n",
    "\n",
    "def add(data):\n",
    "    node = head\n",
    "    print(node1.next)\n",
    "    while node1.next:\n",
    "        node = node.next\n",
    "    "
   ]
  },
  {
   "cell_type": "code",
   "execution_count": 91,
   "metadata": {},
   "outputs": [
    {
     "name": "stdout",
     "output_type": "stream",
     "text": [
      "None\n"
     ]
    }
   ],
   "source": [
    "add(1)"
   ]
  },
  {
   "cell_type": "code",
   "execution_count": 89,
   "metadata": {},
   "outputs": [
    {
     "name": "stdout",
     "output_type": "stream",
     "text": [
      "<__main__.Node object at 0x0000018E945D56D8>\n"
     ]
    }
   ],
   "source": [
    "print(node1)"
   ]
  },
  {
   "cell_type": "code",
   "execution_count": 102,
   "metadata": {},
   "outputs": [],
   "source": [
    "class Node:\n",
    "    def __init__(self, data, next = None):\n",
    "        self.data = data\n",
    "        self.next = next\n",
    "        \n",
    "class NodeMgmt:\n",
    "    def __init__(self, data):\n",
    "        self.head = Node(data)\n",
    "    \n",
    "    def add(self, data):\n",
    "        if self.head == '':\n",
    "            self.head = Node(data)\n",
    "            \n",
    "        else:\n",
    "            node = self.head\n",
    "            while node.next:\n",
    "                node = node.next\n",
    "            node.next = Node(data)\n",
    "    \n",
    "    def desc(self):\n",
    "        node = self.head\n",
    "        while node:\n",
    "            print(node.data)\n",
    "            node = node.next\n",
    "            \n",
    "    def delete(self, data):  \n",
    "        if self.head == '':  # 아예 없는 경우\n",
    "            print('삭제하려는 데이터가 없습니다.')\n",
    "            return\n",
    "        \n",
    "        if self.head.data == data:  # 만약 head 가 삭제하려는 데이터 일 때\n",
    "            temp = self.head  # 임시로 데이터 저장해둠\n",
    "            self.head = self.head.next  # 그리고 head는 그 헤드의 다음 노드로 변경\n",
    "            del temp  # 임시 저장해둔 데이터는 삭제\n",
    "        \n",
    "        else:  # 삭제하려는 데이터가 head가 아닐 때\n",
    "            node = self.head  # 헤드 지정\n",
    "            while node.next:  # 다음 노드가 있을 때 \n",
    "                if node.next.data == data:  # 만약 해당 노드 다음 데이터가 삭제하려는 그 데이터 일 때\n",
    "                    temp = node.next  # 그 노드 임시저장\n",
    "                    node.next = node.next.next  # 그리고 해당 노드 다음 노드를 현재 노드랑 변경\n",
    "                    del temp  # 임시 저장해둔 데이터는 삭제\n",
    "                    return \n",
    "                else:\n",
    "                    node = node.next  # 아니면 다음 노드로 넘어감"
   ]
  },
  {
   "cell_type": "code",
   "execution_count": 103,
   "metadata": {},
   "outputs": [
    {
     "name": "stdout",
     "output_type": "stream",
     "text": [
      "0\n"
     ]
    }
   ],
   "source": [
    "linkedlist = NodeMgmt(0)\n",
    "linkedlist.desc()"
   ]
  },
  {
   "cell_type": "code",
   "execution_count": 104,
   "metadata": {},
   "outputs": [],
   "source": [
    "for data in range(1, 10):\n",
    "    linkedlist.add(data)"
   ]
  },
  {
   "cell_type": "code",
   "execution_count": 105,
   "metadata": {},
   "outputs": [
    {
     "name": "stdout",
     "output_type": "stream",
     "text": [
      "0\n",
      "1\n",
      "2\n",
      "3\n",
      "4\n",
      "5\n",
      "6\n",
      "7\n",
      "8\n",
      "9\n"
     ]
    }
   ],
   "source": [
    "linkedlist.desc()"
   ]
  },
  {
   "cell_type": "code",
   "execution_count": 106,
   "metadata": {},
   "outputs": [
    {
     "name": "stdout",
     "output_type": "stream",
     "text": [
      "0\n",
      "1\n",
      "2\n",
      "3\n",
      "5\n",
      "6\n",
      "7\n",
      "8\n",
      "9\n"
     ]
    }
   ],
   "source": [
    "linkedlist.delete(4)\n",
    "linkedlist.desc()"
   ]
  },
  {
   "cell_type": "code",
   "execution_count": 107,
   "metadata": {},
   "outputs": [
    {
     "name": "stdout",
     "output_type": "stream",
     "text": [
      "1\n",
      "2\n",
      "3\n",
      "5\n",
      "6\n",
      "7\n",
      "8\n",
      "9\n"
     ]
    }
   ],
   "source": [
    "linkedlist.delete(0)\n",
    "linkedlist.desc()"
   ]
  },
  {
   "cell_type": "code",
   "execution_count": 108,
   "metadata": {},
   "outputs": [
    {
     "name": "stdout",
     "output_type": "stream",
     "text": [
      "1\n",
      "2\n",
      "3\n",
      "5\n",
      "6\n",
      "7\n",
      "8\n"
     ]
    }
   ],
   "source": [
    "linkedlist.delete(9)\n",
    "linkedlist.desc()"
   ]
  },
  {
   "cell_type": "markdown",
   "metadata": {},
   "source": [
    "## 링크드 리스트 복습"
   ]
  },
  {
   "cell_type": "code",
   "execution_count": 27,
   "metadata": {},
   "outputs": [],
   "source": [
    "class Node:\n",
    "    def __init__(self, data, next = None):\n",
    "        self.data = data\n",
    "        self.next = next\n",
    "\n",
    "class NodeMgmt:\n",
    "    def __init__(self, data):\n",
    "        self.head = Node(data)\n",
    "        \n",
    "    def add(self, data):\n",
    "        if self.head == '':\n",
    "            self.head = Node(data)\n",
    "        else:\n",
    "            node = self.head\n",
    "            while node.next:\n",
    "                node = node.next\n",
    "            node.next = Node(data)\n",
    "    \n",
    "    def desc(self):\n",
    "        node = self.head\n",
    "        while node:\n",
    "            print(node.data)\n",
    "            node = node.next\n",
    "    \n",
    "    def delete(self, data):\n",
    "        if self.head == '':\n",
    "            print('노드가 없습니다.')\n",
    "            return\n",
    "        \n",
    "        if self.head.data == data:\n",
    "            temp = self.head\n",
    "            self.head = self.head.next\n",
    "            del temp\n",
    "            return\n",
    "        \n",
    "        else:\n",
    "            node = self.head\n",
    "            while node.next:\n",
    "                if node.next.data == data:\n",
    "                    temp = node.next\n",
    "                    node.next = node.next.next\n",
    "                    del temp\n",
    "                    return\n",
    "                else:\n",
    "                    node = node.next"
   ]
  },
  {
   "cell_type": "code",
   "execution_count": 28,
   "metadata": {},
   "outputs": [],
   "source": [
    "test = NodeMgmt(0)"
   ]
  },
  {
   "cell_type": "code",
   "execution_count": 29,
   "metadata": {},
   "outputs": [
    {
     "name": "stdout",
     "output_type": "stream",
     "text": [
      "0\n",
      "1\n",
      "2\n",
      "3\n",
      "4\n",
      "5\n",
      "6\n",
      "7\n",
      "8\n",
      "9\n"
     ]
    }
   ],
   "source": [
    "for i in range(1, 10):\n",
    "    test.add(i)\n",
    "test.desc()"
   ]
  },
  {
   "cell_type": "code",
   "execution_count": 35,
   "metadata": {},
   "outputs": [],
   "source": [
    "test.delete(9)"
   ]
  },
  {
   "cell_type": "code",
   "execution_count": 36,
   "metadata": {},
   "outputs": [
    {
     "name": "stdout",
     "output_type": "stream",
     "text": [
      "1\n",
      "2\n",
      "3\n",
      "4\n",
      "5\n",
      "6\n",
      "7\n",
      "8\n"
     ]
    }
   ],
   "source": [
    "test.desc()"
   ]
  },
  {
   "cell_type": "markdown",
   "metadata": {},
   "source": [
    "## 더블 링크드 리스트"
   ]
  },
  {
   "cell_type": "code",
   "execution_count": 37,
   "metadata": {},
   "outputs": [],
   "source": [
    "class Node:  # 노드 만들기\n",
    "    def __init__(self, data, prev=None, next=None):  # 앞과 뒤 둘다 주소 가르킴\n",
    "        self.prev = prev  # 앞의 데이터 가리키는 주소\n",
    "        self.data = data  # 현재 데이터\n",
    "        self.next = next  # 뒤의 데이터 가리키는 주소\n",
    "\n",
    "class NodeMgmt:\n",
    "    def __init__(self, data):  \n",
    "        self.head = Node(data)  # 맨 처음에는 하나 만들어주고\n",
    "        self.tail = self.head  # 헤드랑 테일이랑 데이터 값 동일 \n",
    "\n",
    "    def insert(self, data):\n",
    "        if self.head == None:  # 만약에 하나도 없으면 \n",
    "            self.head = Node(data)  # 헤드에 노드 하나 추가\n",
    "            self.tail = self.head  # 데이터 한개 밖에 없기 때문에 헤드랑 테일은 동일\n",
    "        else:\n",
    "            node = self.head  # 만약 헤드가 있으면\n",
    "            while node.next:  # 맨 뒤 리스트까지 이동\n",
    "                node = node.next\n",
    "            new = Node(data)  # 새로운 노드 생성\n",
    "            node.next = new  # 현재 노드에서 다음 노드를 새로 만든 노드로 추가\n",
    "            new.prev = node  # 새로 만든 노드의 앞주소는 현재 노드\n",
    "            self.tail = new  # 테일에는 새로운 노드를 추가\n",
    "\n",
    "    def desc(self):  # 출력하는 함수\n",
    "        node = self.head  # 설정해주고\n",
    "        while node:\n",
    "            print (node.data)  # 훑어줌\n",
    "            node = node.next\n",
    "    \n",
    "    def search_from_head(self, data):  # 앞에서부터 찾기\n",
    "        if self.head == None:  # 만약에 노드가 하나도 없으면\n",
    "            return False  # 바로 false 리턴\n",
    "    \n",
    "        node = self.head  \n",
    "        while node:\n",
    "            if node.data == data:  # 노드 찾으면\n",
    "                return node  # 노드 리턴\n",
    "            else:\n",
    "                node = node.next  # 아니면 찾을때까지 계속 돌림\n",
    "        return False  # 그래도 없으면 false 리턴\n",
    "    \n",
    "    def search_from_tail(self, data):  # 뒤에서부터 찾기\n",
    "        if self.tail == None:\n",
    "            return False\n",
    "    \n",
    "        node = self.tail\n",
    "        while node:  \n",
    "            if node.data == data:  # 만약에 노드 찾으면\n",
    "                return node  # 노드 리턴\n",
    "            else:\n",
    "                node = node.prev  # 아니면 계속 앞으로 이동\n",
    "        return False  # 그래도 없으면 false 리턴\n",
    "    \n",
    "    def insert_before(self, data, before_data):  # 특정 숫자 앞에 노드 추가\n",
    "        if self.head == None:  # 만약에 하나도 없으면 \n",
    "            self.head = Node(data)  # 노드 바로 추가\n",
    "            return True\n",
    "        else:\n",
    "            node = self.tail  # 노드 설정해주고 (else 라는건 노드가 존재한다는 뜻이니)\n",
    "            while node.data != before_data:  # 노드 데이터랑 현재 데이터랑 같아질 때까지 계속 돌림\n",
    "                node = node.prev\n",
    "                if node == None:  # 그래도 없으면 false 리턴\n",
    "                    return False  \n",
    "            new = Node(data)  # 추가하기 위한 노드 생성 -> 연결관계 만들어주기\n",
    "            before_new = node.prev  # 새로 만든 노드 앞에 있는 노드는 전에 있던 노드의 앞 주소\n",
    "            before_new.next = new  # 앞 노드의 뒷 주소는 현재 추가할 노드\n",
    "            new.prev = before_new  # 추가할 노드의 앞주소는 앞 노드\n",
    "            new.next = node  # 추가할 노드의 뒷 주소는 뒤에 있는 노드\n",
    "            node.prev = new  # 뒷 노드의 앞 노드는 추가할 노드\n",
    "            return True"
   ]
  },
  {
   "cell_type": "code",
   "execution_count": 38,
   "metadata": {},
   "outputs": [
    {
     "name": "stdout",
     "output_type": "stream",
     "text": [
      "0\n",
      "1\n",
      "2\n",
      "3\n",
      "4\n",
      "5\n",
      "6\n",
      "7\n",
      "8\n",
      "9\n"
     ]
    }
   ],
   "source": [
    "double_linked_list = NodeMgmt(0)\n",
    "for data in range(1, 10):\n",
    "    double_linked_list.insert(data)\n",
    "double_linked_list.desc()"
   ]
  },
  {
   "cell_type": "code",
   "execution_count": 39,
   "metadata": {},
   "outputs": [
    {
     "data": {
      "text/plain": [
       "3"
      ]
     },
     "execution_count": 39,
     "metadata": {},
     "output_type": "execute_result"
    }
   ],
   "source": [
    "node_3 = double_linked_list.search_from_tail(3)\n",
    "node_3.data"
   ]
  },
  {
   "cell_type": "code",
   "execution_count": 40,
   "metadata": {},
   "outputs": [
    {
     "name": "stdout",
     "output_type": "stream",
     "text": [
      "0\n",
      "1\n",
      "1.5\n",
      "2\n",
      "3\n",
      "4\n",
      "5\n",
      "6\n",
      "7\n",
      "8\n",
      "9\n"
     ]
    }
   ],
   "source": [
    "double_linked_list.insert_before(1.5, 2)\n",
    "double_linked_list.desc()"
   ]
  },
  {
   "cell_type": "code",
   "execution_count": 41,
   "metadata": {},
   "outputs": [
    {
     "data": {
      "text/plain": [
       "1.5"
      ]
     },
     "execution_count": 41,
     "metadata": {},
     "output_type": "execute_result"
    }
   ],
   "source": [
    "node_3 = double_linked_list.search_from_tail(1.5)\n",
    "node_3.data"
   ]
  },
  {
   "cell_type": "code",
   "execution_count": null,
   "metadata": {},
   "outputs": [],
   "source": []
  },
  {
   "cell_type": "code",
   "execution_count": null,
   "metadata": {},
   "outputs": [],
   "source": []
  },
  {
   "cell_type": "code",
   "execution_count": null,
   "metadata": {},
   "outputs": [],
   "source": []
  }
 ],
 "metadata": {
  "kernelspec": {
   "display_name": "Python 3",
   "language": "python",
   "name": "python3"
  },
  "language_info": {
   "codemirror_mode": {
    "name": "ipython",
    "version": 3
   },
   "file_extension": ".py",
   "mimetype": "text/x-python",
   "name": "python",
   "nbconvert_exporter": "python",
   "pygments_lexer": "ipython3",
   "version": "3.6.8"
  }
 },
 "nbformat": 4,
 "nbformat_minor": 2
}
