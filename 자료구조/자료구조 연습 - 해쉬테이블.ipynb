{
 "cells": [
  {
   "cell_type": "markdown",
   "metadata": {},
   "source": [
    "## 해쉬 테이블 구현"
   ]
  },
  {
   "cell_type": "code",
   "execution_count": 18,
   "metadata": {},
   "outputs": [
    {
     "data": {
      "text/plain": [
       "[0, 0, 0, 0, 0, 0, 0, 0, 0, 0]"
      ]
     },
     "execution_count": 18,
     "metadata": {},
     "output_type": "execute_result"
    }
   ],
   "source": [
    "hash_table = [0 for i in range(10)]\n",
    "hash_table"
   ]
  },
  {
   "cell_type": "code",
   "execution_count": 25,
   "metadata": {},
   "outputs": [],
   "source": [
    "def get_key(data):\n",
    "    return hash(data)\n",
    "\n",
    "def hash_function(key):\n",
    "    hash_address = key % 10\n",
    "    return hash_address\n",
    "\n",
    "def storage_data(data, value):\n",
    "    key = get_key(data)\n",
    "    hash_address = hash_function(key)\n",
    "    hash_table[hash_address] = value\n",
    "    \n",
    "def read_data(data):\n",
    "    hash_address = hash_function(get_key(data))\n",
    "    return hash_table[hash_address]\n"
   ]
  },
  {
   "cell_type": "code",
   "execution_count": 26,
   "metadata": {},
   "outputs": [
    {
     "data": {
      "text/plain": [
       "789"
      ]
     },
     "execution_count": 26,
     "metadata": {},
     "output_type": "execute_result"
    }
   ],
   "source": [
    "storage_data('a', 123)\n",
    "storage_data('b', 456)\n",
    "storage_data('c', 789)\n",
    "\n",
    "read_data('c')"
   ]
  },
  {
   "cell_type": "code",
   "execution_count": 28,
   "metadata": {},
   "outputs": [
    {
     "data": {
      "text/plain": [
       "[0, 0, 0, 0, 123, 456, 0, 0, 789, 0]"
      ]
     },
     "execution_count": 28,
     "metadata": {},
     "output_type": "execute_result"
    }
   ],
   "source": [
    "hash_table"
   ]
  },
  {
   "cell_type": "markdown",
   "metadata": {},
   "source": [
    "##  Chaining  기법을 활용하여 충돌 문제 해결"
   ]
  },
  {
   "cell_type": "code",
   "execution_count": 29,
   "metadata": {},
   "outputs": [],
   "source": [
    "hash_table = list([0 for i in range(8)])  # 해쉬 테이블 공간 만들어주기\n",
    "\n",
    "def get_key(data):  # 키 값을 해쉬로 변환\n",
    "    return hash(data)\n",
    "\n",
    "def hash_function(key): # 해쉬 함수 -> 0 ~ 7까지 반환\n",
    "    return key % 8\n",
    "\n",
    "def save_data(data, value): # 데이터 저장하는 함수 -> 충돌 피하기 위해 키값이 겹치면 인덱스를 추가하여 다음 공간으로 할당\n",
    "    index_key = get_key(data)  # 인덱스 생성\n",
    "    hash_address = hash_function(index_key)  # 해쉬 주소 생성\n",
    "    if hash_table[hash_address] != 0:  # 만약에 해당 공간에 값이 있으면 -> 키 값들이 충돌이 일어나면\n",
    "        for index in range(len(hash_table[hash_address])): # 해당 공간에 있는 인덱스들 전부 돌기\n",
    "            if hash_table[hash_address][index][0] == index_key:  # 만약에 한 칸에 있는 키 값이 저장하려고 하는 키 값이랑 같으면\n",
    "                hash_table[hash_address][index][1] = value  # 그 키 값에 대한 데이터 저장\n",
    "                return\n",
    "        hash_table[hash_address].append([index_key, value])  # 만약에 해당하는 키가 전혀 없으면 리스트 뒤에 추가\n",
    "    else:  # 값이 없으면 바로 새로 생성\n",
    "        hash_table[hash_address] = [[index_key, value]]  # 생성\n",
    "    \n",
    "def read_data(data):  # 데이터 읽어오기\n",
    "    index_key = get_key(data)  # 키 생성\n",
    "    hash_address = hash_function(index_key)  # 주소 생성\n",
    "\n",
    "    if hash_table[hash_address] != 0:  # 만약에 해당 주소에 데이터가 있으면\n",
    "        for index in range(len(hash_table[hash_address])):  # 안에 있는 인덱스들 전부 돌려서\n",
    "            if hash_table[hash_address][index][0] == index_key:  # 만약에 인덱스 키랑 같은 인덱스를 찾으면\n",
    "                return hash_table[hash_address][index][1]  # value 값 반환\n",
    "        return None  # 없으면 None\n",
    "    else:\n",
    "        return None"
   ]
  },
  {
   "cell_type": "code",
   "execution_count": null,
   "metadata": {},
   "outputs": [],
   "source": []
  },
  {
   "cell_type": "code",
   "execution_count": null,
   "metadata": {},
   "outputs": [],
   "source": []
  },
  {
   "cell_type": "code",
   "execution_count": null,
   "metadata": {},
   "outputs": [],
   "source": []
  },
  {
   "cell_type": "code",
   "execution_count": null,
   "metadata": {},
   "outputs": [],
   "source": []
  },
  {
   "cell_type": "code",
   "execution_count": null,
   "metadata": {},
   "outputs": [],
   "source": []
  }
 ],
 "metadata": {
  "kernelspec": {
   "display_name": "Python 3",
   "language": "python",
   "name": "python3"
  },
  "language_info": {
   "codemirror_mode": {
    "name": "ipython",
    "version": 3
   },
   "file_extension": ".py",
   "mimetype": "text/x-python",
   "name": "python",
   "nbconvert_exporter": "python",
   "pygments_lexer": "ipython3",
   "version": "3.6.8"
  }
 },
 "nbformat": 4,
 "nbformat_minor": 2
}
